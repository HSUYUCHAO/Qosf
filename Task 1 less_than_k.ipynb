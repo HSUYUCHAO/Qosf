{
 "cells": [
  {
   "cell_type": "markdown",
   "id": "184d5ab1",
   "metadata": {},
   "source": [
    "# Task 1 less_than_k"
   ]
  },
  {
   "cell_type": "code",
   "execution_count": 51,
   "id": "fec44865",
   "metadata": {},
   "outputs": [],
   "source": [
    "from qiskit import QuantumRegister, ClassicalRegister, QuantumCircuit, Aer, execute\n",
    "from qiskit.circuit.library import QFT\n",
    "import numpy as np"
   ]
  },
  {
   "cell_type": "markdown",
   "id": "d8c6747c",
   "metadata": {},
   "source": [
    "This method is completed by referring to this paper https://arxiv.org/pdf/2303.07120.pdf and adding my thoughts"
   ]
  },
  {
   "attachments": {},
   "cell_type": "markdown",
   "id": "1ddabb73",
   "metadata": {},
   "source": []
  },
  {
   "cell_type": "markdown",
   "id": "4817a6ad",
   "metadata": {},
   "source": [
    "The creative idea I came up with is that we employ the Quantum Fourier Transform (QFT) and its inverse transform to achieve conditional phase rotation, which is a more advanced way to achieve less than comparison. In this way, we are able to add phases to represent all possible states smaller than k, and then map these phases back to measurable qubit states via inverse QFT."
   ]
  },
  {
   "cell_type": "code",
   "execution_count": 56,
   "id": "2ce9d418",
   "metadata": {},
   "outputs": [],
   "source": [
    "def less_than_k(k, list_n):\n",
    "    # Calculate the number of qubits required\n",
    "    max_val = max(max(list_n), k)\n",
    "    n_qubits = max_val.bit_length()  # The number of qubits required is determined by the maximum\n",
    "\n",
    "    # initial\n",
    "    qr = QuantumRegister(n_qubits, 'q')\n",
    "    cr = ClassicalRegister(n_qubits, 'c')\n",
    "    qc = QuantumCircuit(qr, cr)\n",
    "\n",
    "    # Superposition state\n",
    "    qc.h(qr)\n",
    "\n",
    "    # Apply quantum Fourier transform\n",
    "    qc.append(QFT(n_qubits, do_swaps=False), qr)\n",
    "\n",
    "    # Construct and apply conditions less than k\n",
    "    for i in range(n_qubits):\n",
    "        # If the i-th bit of k is 1, apply conditional phase rotation to all lower bits\n",
    "        if k & (1 << i):\n",
    "            for j in range(i):\n",
    "                qc.cp(-2 * np.pi / (2 ** (i - j + 1)), qr[j], qr[i])\n",
    "\n",
    "    # inverse\n",
    "   \n",
    "    qc.append(QFT(n_qubits, do_swaps=False).inverse(), qr)\n",
    "    qc.measure(qr, cr)\n",
    "\n",
    "    # Execute quantumcircuit\n",
    "    backend = Aer.get_backend('qasm_simulator')\n",
    "    job = execute(qc, backend, shots=1024)\n",
    "    results = job.result().get_counts(qc)\n",
    "\n",
    "    # find the results and find numbers less than k\n",
    "    less_than_k_list = []\n",
    "    for bin_str, count in results.items():\n",
    "        val = int(bin_str, 2)\n",
    "        if val < k and val in list_n:\n",
    "            less_than_k_list.append(val)\n",
    "\n",
    "    return less_than_k_list\n",
    "\n"
   ]
  },
  {
   "cell_type": "code",
   "execution_count": 57,
   "id": "0626479e",
   "metadata": {},
   "outputs": [
    {
     "name": "stdout",
     "output_type": "stream",
     "text": [
      "[1, 4, 6]\n"
     ]
    },
    {
     "name": "stderr",
     "output_type": "stream",
     "text": [
      "/var/folders/kh/vvf0y3ls11586918v2761md40000gn/T/ipykernel_3196/4091039521.py:31: DeprecationWarning: The function ``qiskit.execute_function.execute()`` is deprecated as of qiskit 0.46.0. It will be removed in the Qiskit 1.0 release. This function combines ``transpile`` and ``backend.run``, which is covered by ``Sampler`` :mod:`~qiskit.primitives`. Alternatively, you can also run :func:`.transpile` followed by ``backend.run()``.\n",
      "  job = execute(qc, backend, shots=1024)\n"
     ]
    }
   ],
   "source": [
    "# Test\n",
    "A = less_than_k(7, [4, 9, 11, 14, 1, 13, 6, 15])\n",
    "print(A)"
   ]
  },
  {
   "cell_type": "code",
   "execution_count": 59,
   "id": "2a1e5b89",
   "metadata": {},
   "outputs": [
    {
     "data": {
      "image/png": "[encoded data removed]",
      "text/plain": [
       "<Figure size 1290.83x535.111 with 1 Axes>"
      ]
     },
     "execution_count": 59,
     "metadata": {},
     "output_type": "execute_result"
    }
   ],
   "source": [
    "import numpy as np\n",
    "from qiskit import QuantumRegister, ClassicalRegister, QuantumCircuit, Aer, execute\n",
    "from qiskit.circuit.library import QFT\n",
    "from qiskit.visualization import plot_histogram\n",
    "\n",
    "def less_than_k(k, list_n):\n",
    "    # 计算所需的量子位数量\n",
    "    max_val = max(max(list_n), k)\n",
    "    n_qubits = max_val.bit_length()  # 所需的量子位数量由最大值决定\n",
    "\n",
    "    # 初始化量子寄存器和经典寄存器\n",
    "    qr = QuantumRegister(n_qubits, 'q')\n",
    "    cr = ClassicalRegister(n_qubits, 'c')\n",
    "    qc = QuantumCircuit(qr, cr)\n",
    "\n",
    "    # 初始化量子位状态为叠加态，以表示所有可能的数字\n",
    "    qc.h(qr)\n",
    "    qc.append(QFT(n_qubits, do_swaps=False), qr)\n",
    "    # 应用量子傅立叶变换\n",
    "    \n",
    "\n",
    "    # 构建并应用小于k的条件\n",
    "    for i in range(n_qubits):\n",
    "        # 如果k的第i位是1，则对所有更低位应用条件相位旋转\n",
    "        if k & (1 << i):\n",
    "            for j in range(i):\n",
    "                qc.cp(-2 * np.pi / (2 ** (i - j + 1)), qr[j], qr[i])\n",
    "\n",
    "    # 应用量子傅立叶变换的逆变换\n",
    "    qc.append(QFT(n_qubits, do_swaps=False).inverse(), qr)\n",
    "\n",
    "    # 测量所有量子位\n",
    "    qc.measure(qr, cr)\n",
    "\n",
    "    return qc\n",
    "\n",
    "# 创建电路实例\n",
    "qc = less_than_k(7, [4, 9, 11, 14, 1, 13, 6, 16])\n",
    "\n",
    "# 绘制量子电路\n",
    "qc.draw('mpl')\n"
   ]
  },
  {
   "cell_type": "code",
   "execution_count": null,
   "id": "df3cafc5",
   "metadata": {},
   "outputs": [],
   "source": []
  }
 ],
 "metadata": {
  "kernelspec": {
   "display_name": "Python 3 (ipykernel)",
   "language": "python",
   "name": "python3"
  },
  "language_info": {
   "codemirror_mode": {
    "name": "ipython",
    "version": 3
   },
   "file_extension": ".py",
   "mimetype": "text/x-python",
   "name": "python",
   "nbconvert_exporter": "python",
   "pygments_lexer": "ipython3",
   "version": "3.11.5"
  }
 },
 "nbformat": 4,
 "nbformat_minor": 5
}
